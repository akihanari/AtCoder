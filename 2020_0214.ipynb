{
  "cells": [
    {
      "cell_type": "markdown",
      "source": [
        "**ABC083B - Some Sums**\n",
        "1以上N以下の整数のうち、10進法での各桁の和がA以上B以下であるものの\n",
        "総和を求めてください。\n",
        "・1 <= N <= 10^4\n",
        "・1 <= A <= B <= 36\n",
        "・入力はすべて整数である\n"
      ],
      "metadata": {}
    },
    {
      "cell_type": "code",
      "source": [
        "# -*- coding: utf-8 -*-\n",
        "n, a, b = list(map(int, input().split()))\n",
        "print(\"n:\", n, \"a:\", a, \"b:\", b)\n",
        "#nums = [i for i in range(1, n + 1)]\n",
        "#print(nums)\n",
        "sumlist = 0\n",
        "for num in range(1, n+1):\n",
        "\t#print(\"num:\", num)\n",
        "\tsnum = 0\n",
        "\tif num > 9:\n",
        "\t\ttmp = num\n",
        "\t\t#print(\"tmp:\", tmp)\n",
        "\t\twhile tmp > 0:\n",
        "\t\t\tsnum += tmp % 10\n",
        "\t\t\ttmp = int(tmp / 10)\n",
        "\t\t#print(\"snum:\", snum)\n",
        "\t\tif a <= snum <= b:\n",
        "\t\t\t#print(\"num:\", num)\n",
        "\t\t\tsumlist += num\n",
        "\telif a <= num <= b:\n",
        "\t\t#print(\"num:\", num)\n",
        "\t\tsumlist += num\n",
        "print(\"sumlist\", sumlist)\n",
        "\n"
      ],
      "outputs": [],
      "execution_count": null,
      "metadata": {
        "collapsed": false,
        "outputHidden": false,
        "inputHidden": false
      }
    }
  ],
  "metadata": {},
  "nbformat": 4,
  "nbformat_minor": 4
}