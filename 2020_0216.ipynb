{
  "cells": [
    {
      "cell_type": "markdown",
      "source": [
        "**ABC 155 A-Poor**<br>\n",
        "3つ組の数について、ある2つが等しく、残りの1つがそれらと異なるとき、<br>\n",
        "その3つ組を「かわいそう」であるといいます。<br>\n",
        "3つの整数A,B,Cが与えられるので、この3つ組がかわいそうであれば'Yes'を、<br>\n",
        "そうでなければ'No'を出力してください。<br>\n",
        "・A,B,Cはいずれも1以上9以下の整数<br>\n"
      ],
      "metadata": {}
    },
    {
      "cell_type": "code",
      "source": [
        "# -*- coding: utf-8 -*-\n",
        "A, B, C = map(int, input().split())\n",
        "#print(\"A:\", A, \"B:\", B, \"C:\", C)\n",
        "D = set([A, B, C])\n",
        "#print(D)\n",
        "set_len = len(D)\n",
        "if set_len == 3 or set_len == 1:\n",
        "    print('No')\n",
        "else:\n",
        "    print('Yes')\n"
      ],
      "outputs": [],
      "execution_count": null,
      "metadata": {
        "collapsed": false,
        "outputHidden": false,
        "inputHidden": false
      }
    },
    {
      "cell_type": "markdown",
      "source": [
        "**ABC 155 B - Papers, Please**<br>\n",
        "あなたはAtCoder王国の入国審査官です。<br>\n",
        "入国者の書類にはいくつかの整数が書かれており、<br>\n",
        "あなたの仕事はこれらが条件を満たすか判定することです。<br>\n",
        "規約では、次の条件を満たすとき、またその時に限り、入国を承認することになっています。<br>\n",
        "・書類に書かれている整数のうち、偶数であるものは全て、3または5で割り切れる。<br>\n",
        "上の規約に従う時、書類にN個の整数A1,A2,...,ANが書かれた入国者を<br>\n",
        "承認するならば'APPROVED'を、しないならば'DENIED'を出力してください。<br>\n"
      ],
      "metadata": {}
    },
    {
      "cell_type": "code",
      "source": [
        "# -*- coding: utf-8 -*-\n",
        "N = int(input())\n",
        "#print(\"N:\", N)\n",
        "A = list(map(int, input().split()))\n",
        "#print(\"A:\", A)\n",
        "for i in A:\n",
        "    if i % 2 == 0:\n",
        "        if not((i % 3 == 0) or (i % 5 == 0)):\n",
        "            print('DENIED')\n",
        "            break\n",
        "else:print('APPROVED')\n"
      ],
      "outputs": [],
      "execution_count": null,
      "metadata": {
        "collapsed": false,
        "outputHidden": false,
        "inputHidden": false
      }
    },
    {
      "cell_type": "markdown",
      "source": [
        "**ABC 155 C - Poll**<br>\n",
        "N枚の投票用紙があり、i(1 <= i <= N)枚目には文字列Siが書かれています。<br>\n",
        "書かれた回数が最も多い文字列を全て、辞書順で小さい順に出力してください。<br>\n",
        "・1 <= N <= 2 × 10^5<br>\n",
        "・Siは英小文字のみからなる文字列(1 <= i <= N)<br>\n",
        "・Siの長さは1以上10以下(1 <= i <= N)<br>\n"
      ],
      "metadata": {}
    },
    {
      "cell_type": "code",
      "source": [
        "# -*- coding: utf-8 -*-\n",
        "import collections\n",
        "N = int(input())\n",
        "#print(\"N:\", N)\n",
        "S = [input() for i in range(N)]\n",
        "#print(\"S:\", S)\n",
        "c = collections.Counter(S)\n",
        "values, counts = zip(*c.most_common())\n",
        "#print(\"values:\", values)\n",
        "#print(\"counts:\", counts)\n",
        "i = 0\n",
        "lst = [values[i] for i in range(len(c)) if counts[0] == counts[i]]\n",
        "#print(\"lst:\", lst)\n",
        "lst.sort()\n",
        "for i in lst:\n",
        "    print(i)\n"
      ],
      "outputs": [],
      "execution_count": null,
      "metadata": {
        "collapsed": false,
        "outputHidden": false,
        "inputHidden": false
      }
    },
    {
      "cell_type": "markdown",
      "source": [
        "**ABC 155 D - Pairs**<br>\n",
        "N個の整数A1,A2,...,ANがあります。<br>\n",
        "このうち2つを選んでペアにする方法はN(N-1)/2通りありますが、<br>\n",
        "それぞれのペアについて積を求め、小さい順に並べ替えたとき、<br>\n",
        "K番目にくる数は何になるでしょうか？<br>\n",
        "・入力はすべて整数<br>\n",
        "・2 <= N <= 2 × 10^5<br>\n",
        "・1 <= K <= N(N-1)/2<br>\n",
        "・-10^9 <= Ai <= 10^9(1 <= i <= N)<br>\n"
      ],
      "metadata": {}
    },
    {
      "cell_type": "code",
      "source": [
        "# 提出1(結果:TLE)\n",
        "# -*- coding: utf-8 -*-\n",
        "import itertools\n",
        "N, K = map(int, input().split())\n",
        "A = list(map(int, input().split()))\n",
        "lst = [i[0]*i[1] for i in itertools.combinations(A,2)]\n",
        "lst.sort()\n",
        "print(lst[K - 1])\n",
        "\n"
      ],
      "outputs": [],
      "execution_count": null,
      "metadata": {
        "collapsed": false,
        "outputHidden": false,
        "inputHidden": false
      }
    },
    {
      "cell_type": "code",
      "source": [
        "# 提出2(結果:TLE)\n",
        "import itertools\n",
        "N, K = map(int, input().split())\n",
        "A = list(map(int, input().split()))\n",
        "A.sort()\n",
        "lst = [i[0]*i[1] for i in itertools.combinations(A,2)]\n",
        "lst.sort()\n",
        "print(lst[K - 1])\n",
        "\n\n\n"
      ],
      "outputs": [],
      "execution_count": null,
      "metadata": {
        "collapsed": false,
        "outputHidden": false,
        "inputHidden": false
      }
    }
  ],
  "metadata": {
    "kernelspec": {
      "argv": [
        "/Users/rikamac/opt/anaconda3/envs/tmp/bin/python",
        "-m",
        "ipykernel_launcher",
        "-f",
        "{connection_file}"
      ],
      "display_name": "Python 3",
      "language": "python",
      "name": "python3"
    }
  },
  "nbformat": 4,
  "nbformat_minor": 4
}