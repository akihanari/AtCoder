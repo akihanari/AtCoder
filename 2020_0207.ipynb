{
  "cells": [
    {
      "cell_type": "code",
      "source": [
        "# print(\"Hello World!\")\n"
      ],
      "outputs": [],
      "execution_count": null,
      "metadata": {
        "collapsed": false,
        "outputHidden": false,
        "inputHidden": false
      }
    },
    {
      "cell_type": "code",
      "source": [],
      "outputs": [],
      "execution_count": null,
      "metadata": {
        "collapsed": false,
        "outputHidden": false,
        "inputHidden": false
      }
    },
    {
      "cell_type": "markdown",
      "source": [
        "**PracticeA - Welcome to AtCoder**\n",
        "高橋君はデータの加工が行いたいです。\n",
        "整数 a,b,cと、文字列 s が与えられます。 a+b+c の計算結果と、文字列 s を並べて表示しなさい。\n"
      ],
      "metadata": {}
    },
    {
      "cell_type": "code",
      "source": [
        "# -*- coding: utf-8 -*-\n",
        "# 整数の入力\n",
        "a = int(input())\n",
        "# スペース区切りの整数の入力\n",
        "b, c = map(int, input().split())\n",
        "# 文字列の入力\n",
        "s = input()\n",
        "# 出力\n",
        "print(\"{} {}\".format(a+b+c, s))\n"
      ],
      "outputs": [],
      "execution_count": null,
      "metadata": {
        "collapsed": false,
        "outputHidden": false,
        "inputHidden": false
      }
    },
    {
      "cell_type": "code",
      "source": [
        "# -*- coding: utf-8 -*-\n",
        "a = int(input())\n",
        "numlist = []\n",
        "for i in range(a):\n",
        "\tb = int(input())\n",
        "\tnumlist.append(b)\n",
        "i = 0\n",
        "while i < a - 1:\n",
        "    j = i + 1\n",
        "    while j < a:\n",
        "        if (numlist[i] == numlist[j]):\n",
        "            numlist.pop(i)\n",
        "            numlist.pop(j - 1)\n",
        "            a -= 2\n",
        "        j += 1\n",
        "    i += 1\n",
        "print(len(numlist))\n"
      ],
      "outputs": [],
      "execution_count": null,
      "metadata": {
        "collapsed": false,
        "outputHidden": false,
        "inputHidden": false
      }
    },
    {
      "cell_type": "code",
      "source": [
        "# -*- coding: utf-8 -*-\n",
        "a = int(input())\n",
        "numlist = []\n",
        "for i in range(a):\n",
        "\tb = int(input())\n",
        "\tif b in numlist:\n",
        "\t\tnumlist.remove(b)\n",
        "\telse:\n",
        "\t\tnumlist.append(b)\n",
        "print(len(numlist))\n"
      ],
      "outputs": [],
      "execution_count": null,
      "metadata": {
        "collapsed": false,
        "outputHidden": false,
        "inputHidden": false
      }
    },
    {
      "cell_type": "code",
      "source": [],
      "outputs": [],
      "execution_count": null,
      "metadata": {
        "collapsed": false,
        "outputHidden": false,
        "inputHidden": false
      }
    },
    {
      "cell_type": "code",
      "source": [],
      "outputs": [],
      "execution_count": null,
      "metadata": {
        "collapsed": false,
        "outputHidden": false,
        "inputHidden": false
      }
    },
    {
      "cell_type": "code",
      "source": [],
      "outputs": [],
      "execution_count": null,
      "metadata": {
        "collapsed": false,
        "outputHidden": false,
        "inputHidden": false
      }
    }
  ],
  "metadata": {
    "kernelspec": {
      "argv": [
        "/Users/rikamac/opt/anaconda3/envs/tmp/bin/python",
        "-m",
        "ipykernel_launcher",
        "-f",
        "{connection_file}"
      ],
      "display_name": "Python 3",
      "language": "python",
      "name": "python3"
    }
  },
  "nbformat": 4,
  "nbformat_minor": 4
}