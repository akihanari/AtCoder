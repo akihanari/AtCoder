{
  "cells": [
    {
      "cell_type": "markdown",
      "source": [
        "**ABC088B - Card Game for Two**\n",
        "N枚のカードがあrます。i枚目のカードにはaiという数が書かれています。\n",
        "AliceとBobは、これらのカードを使ってゲームを行います。\n",
        "ゲームでは、AliceとBobが交互に1枚ずつカードを取っていきます。\n",
        "Aliceが先にカードを取ります。\n",
        "2人がすべてのカードを取った時にゲームは終了し、取ったカードの数の合計が\n",
        "その人の合計になります。2人とも自分の得点を最大化するように最適な戦略を取った時、\n",
        "AliceはBobより何点多く取るかを求めてください。\n",
        "・Nは1以上100以下の整数\n",
        "・ai(1 <= i <= N)は1以上100以下の整数\n"
      ],
      "metadata": {}
    },
    {
      "cell_type": "code",
      "source": [
        "# -*- coding: utf-8 -*-\n",
        "N = int(input())\n",
        "print(\"N:\", N)\n",
        "a = list(map(int, input().split()))\n",
        "print(\"a:\", a)\n",
        "a.sort(reverse = True)\n",
        "sum_a = sum(a[::2])\n",
        "print(\"sum_a\", sum_a)\n",
        "a.insert(0, 0)\n",
        "sum_b = sum(a[::2])\n",
        "print(\"sum_b\", sum_b)\n",
        "print(sum_a - sum_b)\n"
      ],
      "outputs": [],
      "execution_count": null,
      "metadata": {
        "collapsed": false,
        "outputHidden": false,
        "inputHidden": false
      }
    }
  ],
  "metadata": {
    "kernelspec": {
      "argv": [
        "/Users/rikamac/opt/anaconda3/envs/tmp/bin/python",
        "-m",
        "ipykernel_launcher",
        "-f",
        "{connection_file}"
      ],
      "display_name": "Python 3",
      "language": "python",
      "name": "python3"
    }
  },
  "nbformat": 4,
  "nbformat_minor": 4
}