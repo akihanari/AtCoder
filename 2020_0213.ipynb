{
  "cells": [
    {
      "cell_type": "code",
      "source": [],
      "outputs": [],
      "execution_count": null,
      "metadata": {
        "collapsed": false,
        "outputHidden": false,
        "inputHidden": false
      }
    },
    {
      "cell_type": "markdown",
      "source": [
        "**ABC081B - Shift only**\n",
        "黒板にN個の正の整数A1,...,ANが書かれています。\n",
        "すぬけ君は、黒板に書かれている整数がすべて偶数であるとき、\n",
        "次の操作を行うことができます。\n",
        "・黒板に書かれている整数すべてを、2で割ったものに置き換える\n",
        "すぬけ君は最大で何回操作を行うことができるかを求めてください。\n",
        "1 <= N <= 200\n",
        "1 <= Ai <= 10^9\n"
      ],
      "metadata": {}
    },
    {
      "cell_type": "code",
      "source": [
        "# -*- coding: utf-8 -*-\n",
        "a = int(input())\n",
        "print(\"a:\", a)\n",
        "b = list(map(int, input().split()))\n",
        "print(\"b:\", b)\n",
        "count = 0\n",
        "flg = True\n",
        "while True:\n",
        "\tfor i in range(a):\n",
        "\t\tif b[i] % 2 != 0:\n",
        "\t\t\tflg = False\n",
        "\t\t\tprint(\"i:\", i)\n",
        "\t\t\tbreak\n",
        "\t\telse:\n",
        "\t\t\tb[i] = int(b[i] / 2)\n",
        "\tprint(\"b::\", b)\n",
        "\tif flg == False:\n",
        "\t\tbreak\n",
        "\tcount += 1\n",
        "print(count)\n"
      ],
      "outputs": [],
      "execution_count": null,
      "metadata": {
        "collapsed": false,
        "outputHidden": false,
        "inputHidden": false
      }
    },
    {
      "cell_type": "code",
      "source": [],
      "outputs": [],
      "execution_count": null,
      "metadata": {
        "collapsed": false,
        "outputHidden": false,
        "inputHidden": false
      }
    },
    {
      "cell_type": "markdown",
      "source": [
        "**ABC081A - Placing Marbles**\n",
        "すぬけ君は1,2,3の番号がついた3つのマスからなるマス目を持っています。\n",
        "各マスには'0'か'1'が書かれており、マスiにはsiが書かれています。\n",
        "すぬけ君は'1'が書かれたマスにビー玉を置きます。\n",
        "ビー玉が置かれるマスがいくつあるか求めてください\n",
        "・s1,s2,s3は'1'あるいは'0'\n"
      ],
      "metadata": {}
    },
    {
      "cell_type": "code",
      "source": [
        "# -*- coding: utf-8 -*-\n",
        "s = list(map(int,input()))\n",
        "print(\"s[0]:\", s[0], \"s[1]:\", s[1], \"s[2]\", s[2])\n",
        "count = 0\n",
        "for i in range(3):\n",
        "\tprint(i, s[i])\n",
        "\tif s[i] == 1:\n",
        "\t\tcount += 1\n",
        "print(count)\n"
      ],
      "outputs": [],
      "execution_count": null,
      "metadata": {
        "collapsed": false,
        "outputHidden": false,
        "inputHidden": false
      }
    },
    {
      "cell_type": "markdown",
      "source": [
        "**ABC087B - Coins**\n",
        "あなたは、500円玉をA枚、100円玉をB枚、50円玉をC枚持っています。\n",
        "これらの硬貨の中から何枚かを選び、合計金額をちょうどX円にする方法は何通りありますか。\n",
        "同じ種類の硬貨どうしは区別できません。2通りの硬貨の選び方は、\n",
        "ある種類の硬貨について、その硬貨を選ぶ枚数が異なるとき区別されます。\n",
        "・0 <= A,B,C <= 50\n",
        "・A + B + C >= 1\n",
        "・50 <= X <= 20,000\n",
        "・A,B,Cは整数である\n",
        "・Xは50の倍数である\n"
      ],
      "metadata": {}
    },
    {
      "cell_type": "code",
      "source": [
        "# -*- coding: utf-8 -*-ß\n",
        "a = int(input()) #500\n",
        "b = int(input()) #100\n",
        "c = int(input()) #50\n",
        "x = int(input()) #合計\n",
        "count = 0\n",
        "print(\"input: a:\", a, \"b:\", b, \"c:\", c, \"x:\", x)\n",
        "for i in range(a + 1):\n",
        "\tfor j in range(b + 1):\n",
        "\t\tfor k in range(c + 1):\n",
        "\t\t\t#print(\"i:\", i, \"j:\", j, \"k:\", k, \"sum:\", (a * i) + (b * j) + (c * k))\n",
        "\t\t\tif ((500 * i) + (100 * j) + (50 * k)) == x:\n",
        "\t\t\t\tprint(\"a:\", 500 * i, \"(\", i, \")\", \"b:\", 100 * j, \"(\", j, \")\", \"c:\", 50 * k, \"(\", k, \")\")\n",
        "\t\t\t\tcount += 1\n",
        "print(\"count\", count)\n"
      ],
      "outputs": [],
      "execution_count": null,
      "metadata": {
        "collapsed": false,
        "outputHidden": false,
        "inputHidden": false
      }
    },
    {
      "cell_type": "code",
      "source": [],
      "outputs": [],
      "execution_count": null,
      "metadata": {
        "collapsed": false,
        "outputHidden": false,
        "inputHidden": false
      }
    },
    {
      "cell_type": "code",
      "source": [],
      "outputs": [],
      "execution_count": null,
      "metadata": {
        "collapsed": false,
        "outputHidden": false,
        "inputHidden": false
      }
    },
    {
      "cell_type": "code",
      "source": [],
      "outputs": [],
      "execution_count": null,
      "metadata": {
        "collapsed": false,
        "outputHidden": false,
        "inputHidden": false
      }
    },
    {
      "cell_type": "code",
      "source": [],
      "outputs": [],
      "execution_count": null,
      "metadata": {
        "collapsed": false,
        "outputHidden": false,
        "inputHidden": false
      }
    },
    {
      "cell_type": "code",
      "source": [],
      "outputs": [],
      "execution_count": null,
      "metadata": {
        "collapsed": false,
        "outputHidden": false,
        "inputHidden": false
      }
    },
    {
      "cell_type": "code",
      "source": [],
      "outputs": [],
      "execution_count": null,
      "metadata": {
        "collapsed": false,
        "outputHidden": false,
        "inputHidden": false
      }
    }
  ],
  "metadata": {
    "kernelspec": {
      "argv": [
        "/Users/rikamac/opt/anaconda3/envs/tmp/bin/python",
        "-m",
        "ipykernel_launcher",
        "-f",
        "{connection_file}"
      ],
      "display_name": "Python 3",
      "language": "python",
      "name": "python3"
    }
  },
  "nbformat": 4,
  "nbformat_minor": 4
}