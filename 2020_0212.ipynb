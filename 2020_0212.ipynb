{
  "cells": [
    {
      "cell_type": "code",
      "source": [],
      "outputs": [],
      "execution_count": null,
      "metadata": {
        "collapsed": false,
        "outputHidden": false,
        "inputHidden": false
      }
    },
    {
      "cell_type": "markdown",
      "source": [
        "**ABC086A - Product**\n",
        "シカのAtCooDeerくんは二つの正整数a,bを見つけました。\n",
        "aとbの積が偶数か奇数か判定してください。\n",
        "積が奇数なら'Odd'と、偶数なら'Even'と出力せよ。\n"
      ],
      "metadata": {}
    },
    {
      "cell_type": "code",
      "source": [
        "# -*- coding: utf-8 -*-\n",
        "a, b = map(int, input().split())\n",
        "print(\"a:\", a, \"b:\", b)\n",
        "if (a % 2 == 0) or (b % 2 == 0):\n",
        "\tprint('Even')\n",
        "else:\n",
        "\tprint('Odd')"
      ],
      "outputs": [],
      "execution_count": null,
      "metadata": {
        "collapsed": false,
        "outputHidden": false,
        "inputHidden": false
      }
    },
    {
      "cell_type": "code",
      "source": [],
      "outputs": [],
      "execution_count": null,
      "metadata": {
        "collapsed": false,
        "outputHidden": false,
        "inputHidden": false
      }
    },
    {
      "cell_type": "markdown",
      "source": [
        "**ABC081A - Placing Marbles**\n",
        "すぬけ君は1,2,3の番号がついた3つのマスからなるマス目を持っています。\n",
        "各マスには'0'か'1'が書かれており、マスiにはsiが書かれています。\n",
        "すぬけ君は'1'が書かれたマスにビー玉を置きます。\n",
        "ビー玉が置かれるマスがいくつあるか求めてください\n",
        "・s1,s2,s3は'1'あるいは'0'\n"
      ],
      "metadata": {}
    },
    {
      "cell_type": "code",
      "source": [
        "# -*- coding: utf-8 -*-\n",
        "s = list(map(int,input()))\n",
        "print(\"s[0]:\", s[0], \"s[1]:\", s[1], \"s[2]\", s[2])\n",
        "count = 0\n",
        "for i in range(3):\n",
        "\tprint(i, s[i])\n",
        "\tif s[i] == 1:\n",
        "\t\tcount += 1\n",
        "print(count)\n"
      ],
      "outputs": [],
      "execution_count": null,
      "metadata": {
        "collapsed": false,
        "outputHidden": false,
        "inputHidden": false
      }
    },
    {
      "cell_type": "code",
      "source": [],
      "outputs": [],
      "execution_count": null,
      "metadata": {
        "collapsed": false,
        "outputHidden": false,
        "inputHidden": false
      }
    },
    {
      "cell_type": "code",
      "source": [],
      "outputs": [],
      "execution_count": null,
      "metadata": {
        "collapsed": false,
        "outputHidden": false,
        "inputHidden": false
      }
    },
    {
      "cell_type": "code",
      "source": [],
      "outputs": [],
      "execution_count": null,
      "metadata": {
        "collapsed": false,
        "outputHidden": false,
        "inputHidden": false
      }
    },
    {
      "cell_type": "code",
      "source": [],
      "outputs": [],
      "execution_count": null,
      "metadata": {
        "collapsed": false,
        "outputHidden": false,
        "inputHidden": false
      }
    },
    {
      "cell_type": "code",
      "source": [],
      "outputs": [],
      "execution_count": null,
      "metadata": {
        "collapsed": false,
        "outputHidden": false,
        "inputHidden": false
      }
    },
    {
      "cell_type": "code",
      "source": [],
      "outputs": [],
      "execution_count": null,
      "metadata": {
        "collapsed": false,
        "outputHidden": false,
        "inputHidden": false
      }
    },
    {
      "cell_type": "code",
      "source": [],
      "outputs": [],
      "execution_count": null,
      "metadata": {
        "collapsed": false,
        "outputHidden": false,
        "inputHidden": false
      }
    },
    {
      "cell_type": "code",
      "source": [],
      "outputs": [],
      "execution_count": null,
      "metadata": {
        "collapsed": false,
        "outputHidden": false,
        "inputHidden": false
      }
    }
  ],
  "metadata": {},
  "nbformat": 4,
  "nbformat_minor": 4
}