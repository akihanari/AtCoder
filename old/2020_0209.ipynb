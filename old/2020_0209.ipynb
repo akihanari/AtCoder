{
  "cells": [
    {
      "cell_type": "markdown",
      "source": [
        "**PracticeA**\n",
        "文字列Sの書かれたボールがA個、文字列Tの書かれたボールがB個あります。\n",
        "高橋君は、文字列Uの書かれたボールを１個選んで捨てました。\n",
        "文字列S,Tの書かれたボールがそれぞれ何個残っているでしょうか。\n",
        "・S,T,Uは英小文字のみからなる文字列\n",
        "・S,Tの長さは1以上10以下\n",
        "・SはTではない\n",
        "・S=UまたはT=U\n",
        "・1<=A,B<=10\n",
        "・A,Bは整数\n"
      ],
      "metadata": {}
    },
    {
      "cell_type": "code",
      "source": [
        "# -*- coding: utf-8 -*-\n",
        "# スペース区切りの文字列の入力\n",
        "a, b = map(str, input().split())\n",
        "print(\"a:\", a, \"b:\", b)\n",
        "# スペース区切りの整数の入力\n",
        "c, d = map(int, input().split())\n",
        "print(\"c:\", c, \"d\", d)\n",
        "# 文字列の入力\n",
        "e = input()\n",
        "print(\"e\", e)\n",
        "if a == e:\n",
        "\tprint(c - 1, d)\n",
        "else:\n",
        "\tprint(c, d - 1)"
      ],
      "outputs": [],
      "execution_count": null,
      "metadata": {
        "collapsed": false,
        "outputHidden": false,
        "inputHidden": false
      }
    },
    {
      "cell_type": "code",
      "source": [],
      "outputs": [],
      "execution_count": null,
      "metadata": {
        "collapsed": false,
        "outputHidden": false,
        "inputHidden": false
      }
    },
    {
      "cell_type": "markdown",
      "source": [
        "**PracticeB**\n",
        "文字列Sが与えられます。Sのすべての文字列を'x'で置き換えて出力してください。\n",
        "・Sは英小文字のみからなる文字列\n",
        "・Sの長さは1以上100以下\n"
      ],
      "metadata": {}
    },
    {
      "cell_type": "code",
      "source": [
        "# -*- coding: utf-8 -*-\n",
        "# 案2\n",
        "import re\n",
        "a = input()\n",
        "print(re.sub('[a-z]', 'x', a))\n"
      ],
      "outputs": [],
      "execution_count": null,
      "metadata": {
        "collapsed": false,
        "outputHidden": false,
        "inputHidden": false
      }
    },
    {
      "cell_type": "code",
      "source": [],
      "outputs": [],
      "execution_count": null,
      "metadata": {
        "collapsed": false,
        "outputHidden": false,
        "inputHidden": false
      }
    },
    {
      "cell_type": "markdown",
      "source": [
        "**PracticeC**\n",
        "整数列A1,A2,...,Anが与えられます。\n",
        "この整数列のどの2つの要素も互いに異なるならば'YES'を、\n",
        "そうでないなら'NO'を出力してください。\n",
        "・2<=N<=200000\n",
        "・1<=Ai<=10の9乗\n",
        "・入力はすべて整数\n"
      ],
      "metadata": {}
    },
    {
      "cell_type": "code",
      "source": [
        "# -*- coding: utf-8 -*-\n",
        "a = int(input())\n",
        "print(\"a:\", a)\n",
        "#b = set()\n",
        "#for i in range(a):\n",
        "#\tb ^= {input()}\n",
        "b = input().split()\n",
        "print(\"b:\", b)\n",
        "if len(set(b)) != len(b):\n",
        "\tprint('NO')\n",
        "else:\n",
        "\tprint('YES')\n"
      ],
      "outputs": [],
      "execution_count": null,
      "metadata": {
        "collapsed": false,
        "outputHidden": false,
        "inputHidden": false
      }
    },
    {
      "cell_type": "code",
      "source": [],
      "outputs": [],
      "execution_count": null,
      "metadata": {
        "collapsed": false,
        "outputHidden": false,
        "inputHidden": false
      }
    },
    {
      "cell_type": "markdown",
      "source": [
        "**PracticeD**\n",
        "N個のサイコロが左から右に一列に並べてあります。\n",
        "左からi番目のサイコロは1からpiまでのpi種類の目がそれぞれ等確率で出ます。\n",
        "隣接するK個のサイコロを選んでそれぞれ独立に振ったとき、\n",
        "出る目の合計の期待値の最大値を求めてください。\n",
        "・1<=K<=N<=200000\n",
        "・1<=Ai<=1000\n",
        "・入力で与えられる値はすべて整数\n"
      ],
      "metadata": {}
    },
    {
      "cell_type": "code",
      "source": [
        "# -*- coding: utf-8 -*-\n",
        "a, b = map(int, input().split())\n",
        "#print(\"a:\", a, \"b:\", b)\n",
        "c = input().split()\n",
        "print(\"c:\", c)\n",
        "#print(type(c))\n",
        "#print(\"c:\", c)\n",
        "d = []\n",
        "for i in range(a - b + 1):\n",
        "#\tprint(int(c[i]))\n",
        "\th = 0\n",
        "\tfor j in range(b):\n",
        "\t\th += int(c[i + j])\n",
        "\t\tprint(h)\n",
        "\td.append(h)\n",
        "\tprint(\"d\", d)\n",
        "print(\"max\",d.index(max(d)))\n",
        "e = 0\n",
        "g = d.index(max(d))\n",
        "for i in range(b):\n",
        "\tf = int(c[i + g])\n",
        "#\tprint(\"f:\", f)\n",
        "\td = 0\n",
        "\tfor j in range(f):\n",
        "\t\td += (j + 1)\n",
        "#\t\tprint(\"d:\", d)\n",
        "\te += d / f\n",
        "#\tprint(\"e:\", e)\n",
        "print(\"!e:\", e)\n",
        "#print(((1 + 2) / 2)+((1 + 2 + 3 + 4) / 4)+((1 + 2 + 3 + 4 + 5)/ 5))\n"
      ],
      "outputs": [],
      "execution_count": null,
      "metadata": {
        "collapsed": false,
        "outputHidden": false,
        "inputHidden": false
      }
    },
    {
      "cell_type": "code",
      "source": [
        "# 他参加者回答例\n",
        "n, k = map(int,input().split())\n",
        "print(\"n:\", n, \"k:\", k)\n",
        "P = list(map(int,input().split()))\n",
        "print(\"P:\", P)\n",
        "ave=[(p+1)/2 for p in P]\n",
        "print(\"ave:\", ave) #\n",
        "s=sum(ave[:k])\n",
        "ans=s\n",
        "for left in range(n-k):\n",
        "    s -= ave[left]\n",
        "    s += ave[left+k]\n",
        "    if s>ans:\n",
        "        ans = s\n",
        "print(ans)\n"
      ],
      "outputs": [],
      "execution_count": null,
      "metadata": {
        "collapsed": false,
        "outputHidden": false,
        "inputHidden": false
      }
    },
    {
      "cell_type": "code",
      "source": [
        "# input().splitの書き方の違い\n",
        "# -*- coding: utf-8 -*-\n",
        "a, b = map(int, input().split())\n",
        "print(\"a:\", a, \"b:\", b)\n",
        "c = list(map(int, input().split()))\n",
        "d = map(int, input().split())\n",
        "e = input().split()\n",
        "print(\"c:\", c)\n",
        "print(\"d:\", d)\n",
        "print(\"e:\", e)\n",
        "print(\"type a:\", type(a))\n",
        "print(\"type b:\",type(b))\n",
        "print(\"type c:\",type(c))\n",
        "print(\"type c[0]:\",type(c[0]))\n",
        "print(\"type d:\",type(d))\n",
        "#print(\"type d[0]:\",type(d[0]))\n",
        "print(\"type e:\",type(e))\n",
        "print(\"type e[0]:\",type(e[0]))\n"
      ],
      "outputs": [],
      "execution_count": null,
      "metadata": {
        "collapsed": false,
        "outputHidden": false,
        "inputHidden": false
      }
    },
    {
      "cell_type": "code",
      "source": [
        "# 再チャレンジ(結果：TLE)\n",
        "# -*- coding: utf-8 -*-\n",
        "a, b = map(int, input().split())\n",
        "print(\"a:\", a, \"b:\", b)\n",
        "c = list(map(int, input().split()))\n",
        "print(\"c:\", c)\n",
        "#print(\"type a:\", type(a))\n",
        "#print(\"type b:\",type(b))\n",
        "#print(\"type c:\",type(c))\n",
        "#print(\"type c[0]:\",type(c[0]))\n",
        "\n",
        "#print(\"c:\", c)\n",
        "d = []\n",
        "for i in range(a - b + 1):\n",
        "#\tprint(c[i])\n",
        "\th = 0\n",
        "\tfor j in range(b):\n",
        "\t\th += c[i + j]\n",
        "#\t\tprint(h)\n",
        "\td.append(h)\n",
        "#\tprint(\"d\", d)\n",
        "print(\"max\",d.index(max(d)))\n",
        "e = 0\n",
        "g = d.index(max(d))\n",
        "for i in range(b):\n",
        "\tf = c[i + g]\n",
        "\n",
        "#\tprint(\"f:\", f)\n",
        "\td = 0\n",
        "\tfor j in range(f):\n",
        "\t\td += (j + 1)\n",
        "#\t\tprint(\"d:\", d)\n",
        "\te += d / f\n",
        "#\tprint(\"e:\", e)\n",
        "print(\"!e:\", e)\n"
      ],
      "outputs": [],
      "execution_count": null,
      "metadata": {
        "collapsed": false,
        "outputHidden": false,
        "inputHidden": false
      }
    },
    {
      "cell_type": "code",
      "source": [
        "# 再再チャレンジ(結果：TLE)\n",
        "# -*- coding: utf-8 -*-\n",
        "a, b = map(int, input().split())\n",
        "print(\"a:\", a, \"b:\", b)\n",
        "c = list(map(int, input().split()))\n",
        "print(\"c:\", c)\n",
        "d = []\n",
        "#h = 0\n",
        "for i in range(a - b + 1):\n",
        "\th = sum(c[i:b + i])\n",
        "\td.append(h)\n",
        "\tprint(\"h:\", h, \"i:\", i)\n",
        "e = 0\n",
        "#f = 0\n",
        "g = d.index(max(d))\n",
        "print(\"max\", d.index(max(d)))\n",
        "for i in range(b):\n",
        "\tf = sum(range(1, c[g + i] + 1))\n",
        "\te += f / c[g + i]\n",
        "print(\"!e:\", e)\n"
      ],
      "outputs": [],
      "execution_count": null,
      "metadata": {
        "collapsed": false,
        "outputHidden": false,
        "inputHidden": false
      }
    },
    {
      "cell_type": "code",
      "source": [
        "# 再再再チャレンジ(結果：TLE)\n",
        "# -*- coding: utf-8 -*-\n",
        "a, b = map(int, input().split())\n",
        "print(\"a:\", a, \"b:\", b)\n",
        "c = list(map(int, input().split()))\n",
        "print(\"c:\", c)\n",
        "d = [su\"m(c[i:b + i]) for i in range(a - b + 1)]\n",
        "print(\"d\", d)\n",
        "e = 0\n",
        "g = d.index(max(d))\n",
        "print(\"max\", d.index(max(d)))\n",
        "for i in range(b):\n",
        "\te += sum(range(1, c[g + i] + 1)) / c[g + i]\n",
        "#\tprint(\"e\", sum(range(1, c[g + i] + 1)) / c[g + i])\n",
        "print(\"!e:\", e)"
      ],
      "outputs": [],
      "execution_count": null,
      "metadata": {
        "collapsed": false,
        "outputHidden": false,
        "inputHidden": false
      }
    },
    {
      "cell_type": "code",
      "source": [
        "# 再再再再チャレンジ(結果：TLE)\n",
        "# -*- coding: utf-8 -*-\n",
        "a, b = map(int, input().split())\n",
        "print(\"a:\", a, \"b:\", b)\n",
        "c = list(map(int, input().split()))\n",
        "print(\"c:\", c)\n",
        "d = [(sum(range(1, c[i] + 1)) / c[i]) for i in range(a)]\n",
        "print(\"d:\", d)\n",
        "e = [sum(d[i:b + i]) for i in range(a - b + 1)]\n",
        "print(\"e\", e)\n",
        "g = max(e)\n",
        "print(\"g:\", g)\n",
        "#\tprint(\"e\", sum(range(1, c[g + i] + 1)) / c[g + i])\n",
        "#print(\"!e:\", e)\n"
      ],
      "outputs": [],
      "execution_count": null,
      "metadata": {
        "collapsed": false,
        "outputHidden": false,
        "inputHidden": false
      }
    },
    {
      "cell_type": "code",
      "source": [
        "# 再再再再再チャレンジ(結果：TLE)\n",
        "# -*- coding: utf-8 -*-\n",
        "a, b = map(int, input().split())\n",
        "print(\"a:\", a, \"b:\", b)\n",
        "c = list(map(int, input().split()))\n",
        "print(\"c:\", c)\n",
        "d = [(i + 1) / 2 for i in c]\n",
        "print(\"d:\", d)\n",
        "e = [sum(d[i:b + i]) for i in range(a - b + 1)]\n",
        "print(\"e\", e)\n",
        "print(max(e))\n"
      ],
      "outputs": [],
      "execution_count": null,
      "metadata": {
        "collapsed": false,
        "outputHidden": false,
        "inputHidden": false
      }
    },
    {
      "cell_type": "code",
      "source": [
        "# 再再再再再再チャレンジ(結果：TLE)\n",
        "# -*- coding: utf-8 -*-\n",
        "a, b = map(int, input().split())\n",
        "print(\"a:\", a, \"b:\", b)\n",
        "c = list(map(int, input().split()))\n",
        "print(\"c:\", c)\n",
        "d = [(i + 1) / 2 for i in c]\n",
        "print(\"d:\", d)\n",
        "e = sum(d[:b])\n",
        "print(\"e\", e)\n",
        "for i in range(a - b + 1):\n",
        "\tf = sum(d[i:b + i])\n",
        "\tif f > e:\n",
        "\t\te = f\n",
        "print(e)\n"
      ],
      "outputs": [],
      "execution_count": null,
      "metadata": {
        "collapsed": false,
        "outputHidden": false,
        "inputHidden": false
      }
    },
    {
      "cell_type": "code",
      "source": [
        "# 再再再再再再チャレンジ(結果：AC)\n",
        "# -*- coding: utf-8 -*-\n",
        "a, b = map(int, input().split())\n",
        "print(\"a:\", a, \"b:\", b)\n",
        "c = list(map(int, input().split()))\n",
        "print(\"c:\", c)\n",
        "d = [(i + 1) / 2 for i in c]\n",
        "print(\"d:\", d)\n",
        "e = sum(d[:b])\n",
        "print(\"e\", e)\n",
        "f = e\n",
        "for i in range(a - b):\n",
        "\tf -= d[i]\n",
        "\tf += d[i + b]\n",
        "\tprint(\"f\", f)\n",
        "\tif f > e:\n",
        "\t\te = f\n",
        "print(e)\n"
      ],
      "outputs": [],
      "execution_count": null,
      "metadata": {
        "collapsed": false,
        "outputHidden": false,
        "inputHidden": false
      }
    }
  ],
  "metadata": {},
  "nbformat": 4,
  "nbformat_minor": 4
}